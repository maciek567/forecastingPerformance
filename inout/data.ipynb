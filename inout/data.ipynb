{
 "cells": [
  {
   "cell_type": "markdown",
   "source": [
    "# Data acquisition"
   ],
   "metadata": {
    "collapsed": false
   }
  },
  {
   "cell_type": "code",
   "execution_count": 7,
   "outputs": [],
   "source": [
    "it_companies = {\n",
    "    \"AMD\": \"AMD\",\n",
    "    \"Accenture\": \"acn\",\n",
    "    \"Acer\": \"ACER\",\n",
    "    \"Activision\": \"atvi\",\n",
    "    \"Adobe\": \"adbe\",\n",
    "    \"Akamai\": \"akam\",\n",
    "    \"Alibaba\": \"BABA\",\n",
    "    \"Amazon\": \"amzn\",\n",
    "    \"Apple\": \"aapl\",\n",
    "    \"At&t\": \"t\",\n",
    "    \"Autodesk\": \"adsk\",\n",
    "    \"Canon\": \"CAJFF\",\n",
    "    \"Capgemini\": \"CAP.PA\",\n",
    "    \"Cisco\": \"CSCO\",\n",
    "    \"Ericsson\": \"ERIC\",\n",
    "    \"Facebook\": \"ft\",\n",
    "    \"Google\": \"goog\",\n",
    "    \"HP\": \"HPQ\",\n",
    "    \"IBM\": \"IBM\",\n",
    "    \"Intel\": \"intc\",\n",
    "    \"Mastercard\": \"MA\",\n",
    "    \"Microsoft\": \"msft\",\n",
    "    \"Motorola\": \"MSI\",\n",
    "    \"Nokia\": \"NOK\",\n",
    "    \"Nvidia\": \"nvda\",\n",
    "    \"Oracle\": \"orcl\",\n",
    "    \"Samsung\": \"SSNLF\",\n",
    "    \"Sony\": \"SONY\",\n",
    "    \"Tmobile\": \"tmus\"\n",
    "}"
   ],
   "metadata": {
    "collapsed": false
   }
  },
  {
   "cell_type": "code",
   "execution_count": 8,
   "outputs": [],
   "source": [
    "start_date = \"2017-01-01\"\n",
    "end_date = \"2023-06-30\"\n",
    "interval = \"1d\""
   ],
   "metadata": {
    "collapsed": false
   }
  },
  {
   "cell_type": "markdown",
   "source": [
    "## Save all time stock data to .csv files"
   ],
   "metadata": {
    "collapsed": false
   }
  },
  {
   "cell_type": "code",
   "execution_count": 9,
   "outputs": [
    {
     "name": "stdout",
     "output_type": "stream",
     "text": [
      "[*********************100%***********************]  1 of 1 completed\n"
     ]
    }
   ],
   "source": [
    "import sys\n",
    "\n",
    "sys.path.append('..')\n",
    "from provider import YFinanceProvider\n",
    "\n",
    "provider = YFinanceProvider()\n",
    "\n",
    "# for name, ticker in it_companies.items():\n",
    "#     data = provider.download_data(ticker=ticker, start_date=start_date, end_date=end_date, interval=interval)\n",
    "#     provider.save_as_csv(data, name)"
   ],
   "metadata": {
    "collapsed": false
   }
  },
  {
   "cell_type": "markdown",
   "source": [
    "## Read first possible date with measurements"
   ],
   "metadata": {
    "collapsed": false
   }
  },
  {
   "cell_type": "code",
   "execution_count": 4,
   "outputs": [
    {
     "name": "stdout",
     "output_type": "stream",
     "text": [
      "HP: 1970-01-02 00:00:00\n",
      "IBM: 1970-01-02 00:00:00\n",
      "Motorola: 1970-01-02 00:00:00\n",
      "Sony: 1973-02-21 00:00:00\n",
      "AMD: 1980-03-17 00:00:00\n",
      "Intel: 1980-03-17 00:00:00\n",
      "Apple: 1980-12-12 00:00:00\n",
      "Ericsson: 1981-08-24 00:00:00\n",
      "At&t: 1983-11-21 00:00:00\n",
      "Autodesk: 1985-06-28 00:00:00\n",
      "Oracle: 1986-03-12 00:00:00\n",
      "Microsoft: 1986-03-13 00:00:00\n",
      "Adobe: 1986-08-13 00:00:00\n",
      "Facebook: 1988-09-26 00:00:00\n",
      "Cisco: 1990-02-16 00:00:00\n",
      "Activision: 1993-10-25 00:00:00\n",
      "Nokia: 1994-07-01 00:00:00\n",
      "Amazon: 1997-05-15 00:00:00\n",
      "Nvidia: 1999-01-22 00:00:00\n",
      "Akamai: 1999-10-29 00:00:00\n",
      "Capgemini: 2000-01-03 00:00:00\n",
      "Accenture: 2001-07-19 00:00:00\n",
      "Samsung: 2001-08-06 00:00:00\n",
      "Acer: 2004-04-14 00:00:00\n",
      "Google: 2004-08-19 00:00:00\n",
      "Mastercard: 2006-05-25 00:00:00\n",
      "Tmobile: 2007-04-19 00:00:00\n",
      "Canon: 2010-10-15 00:00:00\n",
      "Alibaba: 2014-09-19 00:00:00\n"
     ]
    }
   ],
   "source": [
    "first_dates = provider.get_first_dates_sorted(it_companies)\n",
    "for company in first_dates:\n",
    "    print(f\"{company[0]}: {company[1]}\")"
   ],
   "metadata": {
    "collapsed": false
   }
  },
  {
   "cell_type": "code",
   "execution_count": 7,
   "outputs": [
    {
     "name": "stdout",
     "output_type": "stream",
     "text": [
      "dict_keys(['AMD', 'Accenture', 'Acer', 'Activision', 'Adobe', 'Akamai', 'Alibaba', 'Amazon', 'Apple', 'At&t', 'Autodesk', 'Canon', 'Capgemini', 'Cisco', 'Ericsson', 'Facebook', 'Google', 'HP', 'IBM', 'Intel', 'Mastercard', 'Microsoft', 'Motorola', 'Nokia', 'Nvidia', 'Oracle', 'Samsung', 'Sony', 'Tmobile'])\n"
     ]
    }
   ],
   "source": [
    "print(it_companies.keys())"
   ],
   "metadata": {
    "collapsed": false
   }
  },
  {
   "cell_type": "code",
   "execution_count": 4,
   "outputs": [],
   "source": [],
   "metadata": {
    "collapsed": false
   }
  }
 ],
 "metadata": {
  "kernelspec": {
   "display_name": "Python 3",
   "language": "python",
   "name": "python3"
  },
  "language_info": {
   "codemirror_mode": {
    "name": "ipython",
    "version": 2
   },
   "file_extension": ".py",
   "mimetype": "text/x-python",
   "name": "python",
   "nbconvert_exporter": "python",
   "pygments_lexer": "ipython2",
   "version": "2.7.6"
  }
 },
 "nbformat": 4,
 "nbformat_minor": 0
}
