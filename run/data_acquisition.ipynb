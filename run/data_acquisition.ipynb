{
 "cells": [
  {
   "cell_type": "markdown",
   "source": [
    "# Data acquisition"
   ],
   "metadata": {
    "collapsed": false
   }
  },
  {
   "cell_type": "code",
   "execution_count": 1,
   "outputs": [],
   "source": [
    "it_companies = {\n",
    "    \"AMD\": \"AMD\",\n",
    "    \"Accenture\": \"acn\",\n",
    "    \"Activision\": \"atvi\",\n",
    "    \"Adobe\": \"adbe\",\n",
    "    \"Akamai\": \"akam\",\n",
    "    \"Amazon\": \"amzn\",\n",
    "    \"Apple\": \"aapl\",\n",
    "    \"At&t\": \"t\",\n",
    "    \"Autodesk\": \"adsk\",\n",
    "    \"Canon\": \"CAJFF\",\n",
    "    \"Capgemini\": \"CAP.PA\",\n",
    "    \"Cisco\": \"CSCO\",\n",
    "    \"Ericsson\": \"ERIC\",\n",
    "    \"Facebook\": \"ft\",\n",
    "    \"Google\": \"goog\",\n",
    "    \"HP\": \"HPQ\",\n",
    "    \"IBM\": \"IBM\",\n",
    "    \"Mastercard\": \"MA\",\n",
    "    \"Microsoft\": \"msft\",\n",
    "    \"Motorola\": \"MSI\",\n",
    "    \"Nokia\": \"NOK\",\n",
    "    \"Nvidia\": \"nvda\",\n",
    "    \"Oracle\": \"orcl\",\n",
    "    \"Sony\": \"SONY\",\n",
    "    \"Tmobile\": \"tmus\"\n",
    "}"
   ],
   "metadata": {
    "collapsed": false
   }
  },
  {
   "cell_type": "code",
   "execution_count": 2,
   "outputs": [],
   "source": [
    "start_date = \"2017-01-01\"\n",
    "end_date = \"2023-06-30\"\n",
    "interval = \"1d\""
   ],
   "metadata": {
    "collapsed": false
   }
  },
  {
   "cell_type": "markdown",
   "source": [
    "## Save all time stock data to .csv files"
   ],
   "metadata": {
    "collapsed": false
   }
  },
  {
   "cell_type": "code",
   "execution_count": 3,
   "outputs": [],
   "source": [
    "import sys\n",
    "\n",
    "sys.path.append('..')\n",
    "from inout.provider import YFinanceProvider\n",
    "\n",
    "provider = YFinanceProvider()\n",
    "\n",
    "# for name, ticker in it_companies.items():\n",
    "#     data = provider.download_data(ticker=ticker, start_date=start_date, end_date=end_date, interval=interval)\n",
    "#     provider.save_as_csv(data, name)"
   ],
   "metadata": {
    "collapsed": false
   }
  },
  {
   "cell_type": "markdown",
   "source": [
    "## Read first possible date with measurements"
   ],
   "metadata": {
    "collapsed": false
   }
  },
  {
   "cell_type": "code",
   "execution_count": 4,
   "outputs": [
    {
     "name": "stdout",
     "output_type": "stream",
     "text": [
      "Capgemini: 2017-01-02 00:00:00\n",
      "AMD: 2017-01-03 00:00:00\n",
      "Accenture: 2017-01-03 00:00:00\n",
      "Activision: 2017-01-03 00:00:00\n",
      "Adobe: 2017-01-03 00:00:00\n",
      "Akamai: 2017-01-03 00:00:00\n",
      "Amazon: 2017-01-03 00:00:00\n",
      "Apple: 2017-01-03 00:00:00\n",
      "At&t: 2017-01-03 00:00:00\n",
      "Autodesk: 2017-01-03 00:00:00\n",
      "Canon: 2017-01-03 00:00:00\n",
      "Cisco: 2017-01-03 00:00:00\n",
      "Ericsson: 2017-01-03 00:00:00\n",
      "Facebook: 2017-01-03 00:00:00\n",
      "Google: 2017-01-03 00:00:00\n",
      "HP: 2017-01-03 00:00:00\n",
      "IBM: 2017-01-03 00:00:00\n",
      "Mastercard: 2017-01-03 00:00:00\n",
      "Microsoft: 2017-01-03 00:00:00\n",
      "Motorola: 2017-01-03 00:00:00\n",
      "Nokia: 2017-01-03 00:00:00\n",
      "Nvidia: 2017-01-03 00:00:00\n",
      "Oracle: 2017-01-03 00:00:00\n",
      "Sony: 2017-01-03 00:00:00\n",
      "Tmobile: 2017-01-03 00:00:00\n"
     ]
    }
   ],
   "source": [
    "first_dates = provider.get_first_dates_sorted(it_companies)\n",
    "for company in first_dates:\n",
    "    print(f\"{company[0]}: {company[1]}\")"
   ],
   "metadata": {
    "collapsed": false
   }
  },
  {
   "cell_type": "code",
   "execution_count": 5,
   "outputs": [
    {
     "name": "stdout",
     "output_type": "stream",
     "text": [
      "dict_keys(['AMD', 'Accenture', 'Activision', 'Adobe', 'Akamai', 'Amazon', 'Apple', 'At&t', 'Autodesk', 'Canon', 'Capgemini', 'Cisco', 'Ericsson', 'Facebook', 'Google', 'HP', 'IBM', 'Mastercard', 'Microsoft', 'Motorola', 'Nokia', 'Nvidia', 'Oracle', 'Sony', 'Tmobile'])\n"
     ]
    }
   ],
   "source": [
    "print(it_companies.keys())"
   ],
   "metadata": {
    "collapsed": false
   }
  },
  {
   "cell_type": "code",
   "execution_count": 5,
   "outputs": [],
   "source": [],
   "metadata": {
    "collapsed": false
   }
  }
 ],
 "metadata": {
  "kernelspec": {
   "display_name": "Python 3",
   "language": "python",
   "name": "python3"
  },
  "language_info": {
   "codemirror_mode": {
    "name": "ipython",
    "version": 2
   },
   "file_extension": ".py",
   "mimetype": "text/x-python",
   "name": "python",
   "nbconvert_exporter": "python",
   "pygments_lexer": "ipython2",
   "version": "2.7.6"
  }
 },
 "nbformat": 4,
 "nbformat_minor": 0
}
