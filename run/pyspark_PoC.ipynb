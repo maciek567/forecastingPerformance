{
 "cells": [
  {
   "cell_type": "code",
   "execution_count": 1,
   "metadata": {
    "collapsed": true
   },
   "outputs": [],
   "source": [
    "#!pip install pyspark\n",
    "import pyspark"
   ]
  },
  {
   "cell_type": "code",
   "execution_count": 2,
   "outputs": [
    {
     "data": {
      "text/plain": "            Date        open        high         low       close   adj_close  \\\n0     1986-08-13    0.000000    0.218750    0.210938    0.210938    0.198057   \n1     1986-08-14    0.000000    0.230469    0.222656    0.222656    0.209060   \n2     1986-08-15    0.000000    0.222656    0.218750    0.218750    0.205392   \n3     1986-08-18    0.000000    0.218750    0.210938    0.210938    0.198057   \n4     1986-08-19    0.000000    0.218750    0.214844    0.214844    0.201725   \n...          ...         ...         ...         ...         ...         ...   \n9246  2023-04-21  379.970001  380.440002  375.440002  377.670013  377.670013   \n9247  2023-04-24  376.589996  378.950012  373.570007  377.339996  377.339996   \n9248  2023-04-25  373.630005  375.230011  368.880005  369.589996  369.589996   \n9249  2023-04-26  368.600006  369.450012  357.250000  363.059998  363.059998   \n9250  2023-04-27  365.940002  373.820007  363.500000  371.420013  371.420013   \n\n        volume  \n0     18899200  \n1      4160000  \n2      4332800  \n3      2828800  \n4      2060800  \n...        ...  \n9246   1841300  \n9247   1531100  \n9248   2413100  \n9249   2803200  \n9250   2338800  \n\n[9251 rows x 7 columns]",
      "text/html": "<div>\n<style scoped>\n    .dataframe tbody tr th:only-of-type {\n        vertical-align: middle;\n    }\n\n    .dataframe tbody tr th {\n        vertical-align: top;\n    }\n\n    .dataframe thead th {\n        text-align: right;\n    }\n</style>\n<table border=\"1\" class=\"dataframe\">\n  <thead>\n    <tr style=\"text-align: right;\">\n      <th></th>\n      <th>Date</th>\n      <th>open</th>\n      <th>high</th>\n      <th>low</th>\n      <th>close</th>\n      <th>adj_close</th>\n      <th>volume</th>\n    </tr>\n  </thead>\n  <tbody>\n    <tr>\n      <th>0</th>\n      <td>1986-08-13</td>\n      <td>0.000000</td>\n      <td>0.218750</td>\n      <td>0.210938</td>\n      <td>0.210938</td>\n      <td>0.198057</td>\n      <td>18899200</td>\n    </tr>\n    <tr>\n      <th>1</th>\n      <td>1986-08-14</td>\n      <td>0.000000</td>\n      <td>0.230469</td>\n      <td>0.222656</td>\n      <td>0.222656</td>\n      <td>0.209060</td>\n      <td>4160000</td>\n    </tr>\n    <tr>\n      <th>2</th>\n      <td>1986-08-15</td>\n      <td>0.000000</td>\n      <td>0.222656</td>\n      <td>0.218750</td>\n      <td>0.218750</td>\n      <td>0.205392</td>\n      <td>4332800</td>\n    </tr>\n    <tr>\n      <th>3</th>\n      <td>1986-08-18</td>\n      <td>0.000000</td>\n      <td>0.218750</td>\n      <td>0.210938</td>\n      <td>0.210938</td>\n      <td>0.198057</td>\n      <td>2828800</td>\n    </tr>\n    <tr>\n      <th>4</th>\n      <td>1986-08-19</td>\n      <td>0.000000</td>\n      <td>0.218750</td>\n      <td>0.214844</td>\n      <td>0.214844</td>\n      <td>0.201725</td>\n      <td>2060800</td>\n    </tr>\n    <tr>\n      <th>...</th>\n      <td>...</td>\n      <td>...</td>\n      <td>...</td>\n      <td>...</td>\n      <td>...</td>\n      <td>...</td>\n      <td>...</td>\n    </tr>\n    <tr>\n      <th>9246</th>\n      <td>2023-04-21</td>\n      <td>379.970001</td>\n      <td>380.440002</td>\n      <td>375.440002</td>\n      <td>377.670013</td>\n      <td>377.670013</td>\n      <td>1841300</td>\n    </tr>\n    <tr>\n      <th>9247</th>\n      <td>2023-04-24</td>\n      <td>376.589996</td>\n      <td>378.950012</td>\n      <td>373.570007</td>\n      <td>377.339996</td>\n      <td>377.339996</td>\n      <td>1531100</td>\n    </tr>\n    <tr>\n      <th>9248</th>\n      <td>2023-04-25</td>\n      <td>373.630005</td>\n      <td>375.230011</td>\n      <td>368.880005</td>\n      <td>369.589996</td>\n      <td>369.589996</td>\n      <td>2413100</td>\n    </tr>\n    <tr>\n      <th>9249</th>\n      <td>2023-04-26</td>\n      <td>368.600006</td>\n      <td>369.450012</td>\n      <td>357.250000</td>\n      <td>363.059998</td>\n      <td>363.059998</td>\n      <td>2803200</td>\n    </tr>\n    <tr>\n      <th>9250</th>\n      <td>2023-04-27</td>\n      <td>365.940002</td>\n      <td>373.820007</td>\n      <td>363.500000</td>\n      <td>371.420013</td>\n      <td>371.420013</td>\n      <td>2338800</td>\n    </tr>\n  </tbody>\n</table>\n<p>9251 rows × 7 columns</p>\n</div>"
     },
     "execution_count": 2,
     "metadata": {},
     "output_type": "execute_result"
    }
   ],
   "source": [
    "import pandas as pd\n",
    "\n",
    "path = \"../data/timeseries/stock/adobe.csv\"\n",
    "pd.read_csv(path)"
   ],
   "metadata": {
    "collapsed": false
   }
  },
  {
   "cell_type": "code",
   "execution_count": 3,
   "outputs": [
    {
     "data": {
      "text/plain": "<pyspark.sql.session.SparkSession at 0x28a824060a0>",
      "text/html": "\n            <div>\n                <p><b>SparkSession - in-memory</b></p>\n                \n        <div>\n            <p><b>SparkContext</b></p>\n\n            <p><a href=\"http://DESKTOP-R0DKNGM:4040\">Spark UI</a></p>\n\n            <dl>\n              <dt>Version</dt>\n                <dd><code>v3.2.1</code></dd>\n              <dt>Master</dt>\n                <dd><code>local[*]</code></dd>\n              <dt>AppName</dt>\n                <dd><code>Practise</code></dd>\n            </dl>\n        </div>\n        \n            </div>\n        "
     },
     "execution_count": 3,
     "metadata": {},
     "output_type": "execute_result"
    }
   ],
   "source": [
    "from pyspark.sql import SparkSession\n",
    "\n",
    "spark=SparkSession.builder.appName(\"Practise\").getOrCreate()\n",
    "spark"
   ],
   "metadata": {
    "collapsed": false
   }
  },
  {
   "cell_type": "code",
   "execution_count": 4,
   "outputs": [
    {
     "name": "stdout",
     "output_type": "stream",
     "text": [
      "+----------+----+------------------+------------------+------------------+-------------------+--------+\n",
      "|      Date|open|              high|               low|             close|          adj_close|  volume|\n",
      "+----------+----+------------------+------------------+------------------+-------------------+--------+\n",
      "|1986-08-13| 0.0|           0.21875|0.2109380066394806|0.2109380066394806| 0.1980571299791336|18899200|\n",
      "|1986-08-14| 0.0|0.2304690033197403|0.2226559966802597|0.2226559966802597|0.20905959606170654| 4160000|\n",
      "|1986-08-15| 0.0|0.2226559966802597|           0.21875|           0.21875|0.20539207756519318| 4332800|\n",
      "|1986-08-18| 0.0|           0.21875|0.2109380066394806|0.2109380066394806| 0.1980571299791336| 2828800|\n",
      "|1986-08-19| 0.0|           0.21875|0.2148440033197403|0.2148440033197403|  0.201724573969841| 2060800|\n",
      "|1986-08-20| 0.0|0.2265630066394806|0.2148440033197403|0.2148440033197403|  0.201724573969841|  684800|\n",
      "|1986-08-21| 0.0|          0.234375|0.2226559966802597|0.2226559966802597|0.20905959606170654|  883200|\n",
      "|1986-08-22| 0.0|0.2304690033197403|0.2226559966802597|0.2226559966802597|0.20905959606170654| 1734400|\n",
      "|1986-08-25| 0.0|0.2226559966802597|0.2148440033197403|0.2148440033197403|  0.201724573969841|  627200|\n",
      "|1986-08-26| 0.0|0.2226559966802597|0.2148440033197403|0.2148440033197403|  0.201724573969841|  793600|\n",
      "|1986-08-27| 0.0|           0.21875|0.2148440033197403|0.2148440033197403|  0.201724573969841| 2540800|\n",
      "|1986-08-28| 0.0|           0.21875|0.2070309966802597|0.2070309966802597| 0.1943887174129486| 1555200|\n",
      "|1986-08-29| 0.0|           0.21875|0.2070309966802597|0.2070309966802597| 0.1943887174129486| 1548800|\n",
      "|1986-09-02| 0.0|0.2304690033197403|0.2226559966802597|0.2226559966802597|0.20905959606170654| 1068800|\n",
      "|1986-09-03| 0.0|          0.234375|0.2226559966802597|0.2226559966802597|0.20905959606170654|  403200|\n",
      "|1986-09-04| 0.0|0.2578130066394806|              0.25|              0.25|0.23473379015922546| 1804800|\n",
      "|1986-09-05| 0.0|0.2578130066394806|0.2460940033197403|0.2460940033197403|0.23106633126735687| 2137600|\n",
      "|1986-09-08| 0.0|0.2539060115814209|0.2421880066394806|0.2421880066394806| 0.2273988276720047|  492800|\n",
      "|1986-09-09| 0.0|0.2617189884185791|              0.25|              0.25|0.23473379015922546|  499200|\n",
      "|1986-09-10| 0.0|0.2734380066394806|0.2617189884185791|0.2617189884185791|  0.245737224817276|  934400|\n",
      "+----------+----+------------------+------------------+------------------+-------------------+--------+\n",
      "only showing top 20 rows\n",
      "\n"
     ]
    }
   ],
   "source": [
    "adobe = spark.read.option(\"header\", \"true\").csv(path)\n",
    "adobe.show()"
   ],
   "metadata": {
    "collapsed": false
   }
  },
  {
   "cell_type": "code",
   "execution_count": 5,
   "outputs": [
    {
     "name": "stdout",
     "output_type": "stream",
     "text": [
      "root\n",
      " |-- Date: string (nullable = true)\n",
      " |-- open: string (nullable = true)\n",
      " |-- high: string (nullable = true)\n",
      " |-- low: string (nullable = true)\n",
      " |-- close: string (nullable = true)\n",
      " |-- adj_close: string (nullable = true)\n",
      " |-- volume: string (nullable = true)\n",
      "\n"
     ]
    }
   ],
   "source": [
    "adobe.printSchema()"
   ],
   "metadata": {
    "collapsed": false
   }
  },
  {
   "cell_type": "code",
   "execution_count": 5,
   "outputs": [],
   "source": [],
   "metadata": {
    "collapsed": false
   }
  },
  {
   "cell_type": "code",
   "execution_count": 5,
   "outputs": [],
   "source": [],
   "metadata": {
    "collapsed": false
   }
  }
 ],
 "metadata": {
  "kernelspec": {
   "display_name": "Python 3",
   "language": "python",
   "name": "python3"
  },
  "language_info": {
   "codemirror_mode": {
    "name": "ipython",
    "version": 2
   },
   "file_extension": ".py",
   "mimetype": "text/x-python",
   "name": "python",
   "nbconvert_exporter": "python",
   "pygments_lexer": "ipython2",
   "version": "2.7.6"
  }
 },
 "nbformat": 4,
 "nbformat_minor": 0
}
