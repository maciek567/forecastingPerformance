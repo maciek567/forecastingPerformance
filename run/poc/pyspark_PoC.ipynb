{
 "cells": [
  {
   "cell_type": "code",
   "execution_count": 1,
   "metadata": {
    "collapsed": true
   },
   "outputs": [],
   "source": [
    "#!pip install pyspark\n",
    "import pyspark"
   ]
  },
  {
   "cell_type": "code",
   "execution_count": 2,
   "outputs": [
    {
     "data": {
      "text/plain": "            Date        open        high         low       close   adj_close  \\\n0     2017-01-03  103.430000  104.029999  102.809998  103.480003  103.480003   \n1     2017-01-04  103.739998  104.370003  103.500000  104.139999  104.139999   \n2     2017-01-05  104.129997  106.019997  103.769997  105.910004  105.910004   \n3     2017-01-06  105.980003  108.430000  105.250000  108.300003  108.300003   \n4     2017-01-09  107.959999  108.790001  107.559998  108.570000  108.570000   \n...          ...         ...         ...         ...         ...         ...   \n1628  2023-06-23  472.950012  487.329987  472.320007  484.720001  484.720001   \n1629  2023-06-26  483.010010  487.160004  479.049988  479.510010  479.510010   \n1630  2023-06-27  480.000000  490.799988  479.950012  489.269989  489.269989   \n1631  2023-06-28  482.000000  489.750000  480.390015  482.429993  482.429993   \n1632  2023-06-29  484.470001  485.829987  479.600006  483.769989  483.769989   \n\n       volume  \n0     2277400  \n1     1712600  \n2     2504000  \n3     2625600  \n4     2925000  \n...       ...  \n1628  4450200  \n1629  3169500  \n1630  2691700  \n1631  3229200  \n1632  1904700  \n\n[1633 rows x 7 columns]",
      "text/html": "<div>\n<style scoped>\n    .dataframe tbody tr th:only-of-type {\n        vertical-align: middle;\n    }\n\n    .dataframe tbody tr th {\n        vertical-align: top;\n    }\n\n    .dataframe thead th {\n        text-align: right;\n    }\n</style>\n<table border=\"1\" class=\"dataframe\">\n  <thead>\n    <tr style=\"text-align: right;\">\n      <th></th>\n      <th>Date</th>\n      <th>open</th>\n      <th>high</th>\n      <th>low</th>\n      <th>close</th>\n      <th>adj_close</th>\n      <th>volume</th>\n    </tr>\n  </thead>\n  <tbody>\n    <tr>\n      <th>0</th>\n      <td>2017-01-03</td>\n      <td>103.430000</td>\n      <td>104.029999</td>\n      <td>102.809998</td>\n      <td>103.480003</td>\n      <td>103.480003</td>\n      <td>2277400</td>\n    </tr>\n    <tr>\n      <th>1</th>\n      <td>2017-01-04</td>\n      <td>103.739998</td>\n      <td>104.370003</td>\n      <td>103.500000</td>\n      <td>104.139999</td>\n      <td>104.139999</td>\n      <td>1712600</td>\n    </tr>\n    <tr>\n      <th>2</th>\n      <td>2017-01-05</td>\n      <td>104.129997</td>\n      <td>106.019997</td>\n      <td>103.769997</td>\n      <td>105.910004</td>\n      <td>105.910004</td>\n      <td>2504000</td>\n    </tr>\n    <tr>\n      <th>3</th>\n      <td>2017-01-06</td>\n      <td>105.980003</td>\n      <td>108.430000</td>\n      <td>105.250000</td>\n      <td>108.300003</td>\n      <td>108.300003</td>\n      <td>2625600</td>\n    </tr>\n    <tr>\n      <th>4</th>\n      <td>2017-01-09</td>\n      <td>107.959999</td>\n      <td>108.790001</td>\n      <td>107.559998</td>\n      <td>108.570000</td>\n      <td>108.570000</td>\n      <td>2925000</td>\n    </tr>\n    <tr>\n      <th>...</th>\n      <td>...</td>\n      <td>...</td>\n      <td>...</td>\n      <td>...</td>\n      <td>...</td>\n      <td>...</td>\n      <td>...</td>\n    </tr>\n    <tr>\n      <th>1628</th>\n      <td>2023-06-23</td>\n      <td>472.950012</td>\n      <td>487.329987</td>\n      <td>472.320007</td>\n      <td>484.720001</td>\n      <td>484.720001</td>\n      <td>4450200</td>\n    </tr>\n    <tr>\n      <th>1629</th>\n      <td>2023-06-26</td>\n      <td>483.010010</td>\n      <td>487.160004</td>\n      <td>479.049988</td>\n      <td>479.510010</td>\n      <td>479.510010</td>\n      <td>3169500</td>\n    </tr>\n    <tr>\n      <th>1630</th>\n      <td>2023-06-27</td>\n      <td>480.000000</td>\n      <td>490.799988</td>\n      <td>479.950012</td>\n      <td>489.269989</td>\n      <td>489.269989</td>\n      <td>2691700</td>\n    </tr>\n    <tr>\n      <th>1631</th>\n      <td>2023-06-28</td>\n      <td>482.000000</td>\n      <td>489.750000</td>\n      <td>480.390015</td>\n      <td>482.429993</td>\n      <td>482.429993</td>\n      <td>3229200</td>\n    </tr>\n    <tr>\n      <th>1632</th>\n      <td>2023-06-29</td>\n      <td>484.470001</td>\n      <td>485.829987</td>\n      <td>479.600006</td>\n      <td>483.769989</td>\n      <td>483.769989</td>\n      <td>1904700</td>\n    </tr>\n  </tbody>\n</table>\n<p>1633 rows × 7 columns</p>\n</div>"
     },
     "execution_count": 2,
     "metadata": {},
     "output_type": "execute_result"
    }
   ],
   "source": [
    "import pandas as pd\n",
    "\n",
    "path = \"../../data/timeseries/adobe.csv\"\n",
    "pd.read_csv(path)"
   ],
   "metadata": {
    "collapsed": false
   }
  },
  {
   "cell_type": "code",
   "execution_count": 3,
   "outputs": [
    {
     "data": {
      "text/plain": "<pyspark.sql.session.SparkSession at 0x25cfbf6d070>",
      "text/html": "\n            <div>\n                <p><b>SparkSession - in-memory</b></p>\n                \n        <div>\n            <p><b>SparkContext</b></p>\n\n            <p><a href=\"http://DESKTOP-R0DKNGM:4040\">Spark UI</a></p>\n\n            <dl>\n              <dt>Version</dt>\n                <dd><code>v3.3.2</code></dd>\n              <dt>Master</dt>\n                <dd><code>local[*]</code></dd>\n              <dt>AppName</dt>\n                <dd><code>Practise</code></dd>\n            </dl>\n        </div>\n        \n            </div>\n        "
     },
     "execution_count": 3,
     "metadata": {},
     "output_type": "execute_result"
    }
   ],
   "source": [
    "from pyspark.sql import SparkSession\n",
    "\n",
    "spark=SparkSession.builder.appName(\"Practise\").getOrCreate()\n",
    "spark"
   ],
   "metadata": {
    "collapsed": false
   }
  },
  {
   "cell_type": "code",
   "execution_count": 4,
   "outputs": [
    {
     "name": "stdout",
     "output_type": "stream",
     "text": [
      "+----------+------------------+------------------+------------------+------------------+------------------+-------+\n",
      "|      Date|              open|              high|               low|             close|         adj_close| volume|\n",
      "+----------+------------------+------------------+------------------+------------------+------------------+-------+\n",
      "|2017-01-03|103.43000030517578|104.02999877929688|102.80999755859375| 103.4800033569336| 103.4800033569336|2277400|\n",
      "|2017-01-04|103.73999786376953|104.37000274658203|             103.5|104.13999938964844|104.13999938964844|1712600|\n",
      "|2017-01-05|104.12999725341797| 106.0199966430664| 103.7699966430664|105.91000366210938|105.91000366210938|2504000|\n",
      "|2017-01-06| 105.9800033569336|108.43000030517578|            105.25|108.30000305175781|108.30000305175781|2625600|\n",
      "|2017-01-09|107.95999908447266|108.79000091552734|107.55999755859375|108.56999969482422|108.56999969482422|2925000|\n",
      "|2017-01-10|108.56999969482422|108.79000091552734|107.61000061035156|108.26000213623047|108.26000213623047|3081000|\n",
      "|2017-01-11| 108.2300033569336|109.05000305175781|             108.0|108.98999786376953|108.98999786376953|1784000|\n",
      "|2017-01-12|107.98999786376953|108.73999786376953|107.16000366210938|108.58999633789062|108.58999633789062|1617900|\n",
      "|2017-01-13|108.83999633789062| 108.9000015258789| 107.9800033569336|108.52999877929688|108.52999877929688|1593500|\n",
      "|2017-01-17|107.79000091552734|108.05000305175781|107.05999755859375|             108.0|             108.0|1697800|\n",
      "|2017-01-18|             108.5|109.16999816894531|107.52999877929688|108.79000091552734|108.79000091552734|2536900|\n",
      "|2017-01-19|108.62999725341797| 109.9800033569336|108.04000091552734|109.79000091552734|109.79000091552734|3090500|\n",
      "|2017-01-20| 110.0199966430664|110.80999755859375|109.56999969482422|110.70999908447266|110.70999908447266|3179200|\n",
      "|2017-01-23|110.70999908447266|111.91999816894531|110.30000305175781|110.97000122070312|110.97000122070312|2574200|\n",
      "|2017-01-24|111.45999908447266|114.16999816894531|111.33999633789062|113.72000122070312|113.72000122070312|3654400|\n",
      "|2017-01-25| 113.7699966430664|114.56999969482422|113.29000091552734|            114.25|            114.25|3919300|\n",
      "|2017-01-26|113.79000091552734|114.44000244140625| 112.7300033569336|112.87999725341797|112.87999725341797|2745200|\n",
      "|2017-01-27|113.06999969482422|114.01000213623047|            112.75|113.98999786376953|113.98999786376953|1696800|\n",
      "|2017-01-30|113.22000122070312|113.87000274658203|112.26000213623047|113.81999969482422|113.81999969482422|2176500|\n",
      "|2017-01-31|113.22000122070312|            113.75|112.69999694824219|113.37999725341797|113.37999725341797|1716600|\n",
      "+----------+------------------+------------------+------------------+------------------+------------------+-------+\n",
      "only showing top 20 rows\n",
      "\n"
     ]
    }
   ],
   "source": [
    "adobe = spark.read.option(\"header\", \"true\").csv(path)\n",
    "adobe.show()"
   ],
   "metadata": {
    "collapsed": false
   }
  },
  {
   "cell_type": "code",
   "execution_count": 5,
   "outputs": [
    {
     "name": "stdout",
     "output_type": "stream",
     "text": [
      "root\n",
      " |-- Date: string (nullable = true)\n",
      " |-- open: string (nullable = true)\n",
      " |-- high: string (nullable = true)\n",
      " |-- low: string (nullable = true)\n",
      " |-- close: string (nullable = true)\n",
      " |-- adj_close: string (nullable = true)\n",
      " |-- volume: string (nullable = true)\n",
      "\n"
     ]
    }
   ],
   "source": [
    "adobe.printSchema()"
   ],
   "metadata": {
    "collapsed": false
   }
  },
  {
   "cell_type": "code",
   "execution_count": 5,
   "outputs": [],
   "source": [],
   "metadata": {
    "collapsed": false
   }
  },
  {
   "cell_type": "code",
   "execution_count": 5,
   "outputs": [],
   "source": [],
   "metadata": {
    "collapsed": false
   }
  }
 ],
 "metadata": {
  "kernelspec": {
   "display_name": "Python 3",
   "language": "python",
   "name": "python3"
  },
  "language_info": {
   "codemirror_mode": {
    "name": "ipython",
    "version": 2
   },
   "file_extension": ".py",
   "mimetype": "text/x-python",
   "name": "python",
   "nbconvert_exporter": "python",
   "pygments_lexer": "ipython2",
   "version": "2.7.6"
  }
 },
 "nbformat": 4,
 "nbformat_minor": 0
}
